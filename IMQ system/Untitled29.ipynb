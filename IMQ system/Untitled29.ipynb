{
 "cells": [
  {
   "cell_type": "markdown",
   "id": "40284e6e-f3c1-400a-8083-32c2a6efd26f",
   "metadata": {},
   "source": [
    "### Import Libraries"
   ]
  },
  {
   "cell_type": "code",
   "execution_count": 1,
   "id": "703dd030-2209-4c78-be1d-90973bdc74fb",
   "metadata": {},
   "outputs": [],
   "source": [
    "import pandas as pd\n",
    "import numpy as np\n",
    "from sklearn.ensemble import IsolationForest"
   ]
  },
  {
   "cell_type": "markdown",
   "id": "6c933040-da3d-4b54-b86f-ae6d5f1b7926",
   "metadata": {},
   "source": [
    "### Load Data"
   ]
  },
  {
   "cell_type": "code",
   "execution_count": 4,
   "id": "e94b48ea-8351-4fdc-8f3a-82866cbaaaa9",
   "metadata": {},
   "outputs": [],
   "source": [
    "df = pd.read_excel(\n",
    "    'C://Users//MQ745ED//Downloads//Sample Sales Data v1.xlsx',\n",
    "    skiprows=0,\n",
    "    sheet_name='Data'\n",
    ")"
   ]
  },
  {
   "cell_type": "markdown",
   "id": "1b1a3210-2885-41cf-9b7b-bc365c456e05",
   "metadata": {},
   "source": [
    "### Making a key"
   ]
  },
  {
   "cell_type": "code",
   "execution_count": 5,
   "id": "e7eeeaf5-a3e1-4312-98b6-6bf7cbe24f0d",
   "metadata": {},
   "outputs": [],
   "source": [
    "df['Key'] = (\n",
    "    df['Market'].astype(str) + \"-\" +\n",
    "    df['Product Category'].astype(str)\n",
    ")\n"
   ]
  },
  {
   "cell_type": "markdown",
   "id": "3c8f08d9-d6c9-4c46-b8ba-3e0796e5b047",
   "metadata": {},
   "source": [
    "### Dataframe Division"
   ]
  },
  {
   "cell_type": "code",
   "execution_count": 6,
   "id": "2665e22f-fa77-47ff-8028-241ef1f6d932",
   "metadata": {},
   "outputs": [
    {
     "name": "stdout",
     "output_type": "stream",
     "text": [
      "Groups with <6 non-zero 'AC' values: 7\n",
      "Groups with >=6 non-zero 'AC' values: 49\n"
     ]
    }
   ],
   "source": [
    "\n",
    "\n",
    "# Group by 'Key' and count non-zero 'AC' values per group\n",
    "grouped = df.groupby('Key')['Sales Quantity'].apply(lambda x: (x != 0).sum())\n",
    "\n",
    "# Get keys where non-zero count < 6\n",
    "keys_less_than_6 = grouped[grouped < 6].index.tolist()\n",
    "keys_6_or_more = grouped[grouped >= 6].index.tolist()\n",
    "\n",
    "# Split into two DataFrames\n",
    "df_less_than_6 = df[df['Key'].isin(keys_less_than_6)]\n",
    "df_6_or_more = df[df['Key'].isin(keys_6_or_more)]\n",
    "\n",
    "# Display counts (optional)\n",
    "print(f\"Groups with <6 non-zero 'Sales Quantity' values: {len(keys_less_than_6)}\")\n",
    "print(f\"Groups with >=6 non-zero 'Sales Quantity' values: {len(keys_6_or_more)}\")"
   ]
  },
  {
   "cell_type": "code",
   "execution_count": 10,
   "id": "354fc753-4683-4b31-848b-fd1f6e673046",
   "metadata": {},
   "outputs": [],
   "source": [
    "df = df_6_or_more.copy()"
   ]
  },
  {
   "cell_type": "code",
   "execution_count": 7,
   "id": "d5aa3992-ddd7-4dcc-83ce-ec57b9f1894a",
   "metadata": {},
   "outputs": [],
   "source": [
    "df_less_than_6.to_excel('C://Users//MQ745ED//OneDrive - EY//SampleCaseStudy//Output//Filtered Dataset Less then 6.xlsx',index = False)"
   ]
  },
  {
   "cell_type": "code",
   "execution_count": 8,
   "id": "66ebaa8b-7baf-491f-9a8a-6573e39a0cac",
   "metadata": {},
   "outputs": [],
   "source": [
    "df_6_or_more.to_excel('C://Users//MQ745ED//OneDrive - EY//SampleCaseStudy//Output//Filtered Dataset More then 6 .xlsx',index = False)"
   ]
  },
  {
   "cell_type": "markdown",
   "id": "be6d3345-5111-4d81-90c1-f6a4b965db06",
   "metadata": {},
   "source": [
    "### Exploratory Analysis"
   ]
  },
  {
   "cell_type": "code",
   "execution_count": 11,
   "id": "b14f586f-50e5-4814-8633-866fe1663860",
   "metadata": {},
   "outputs": [
    {
     "data": {
      "text/plain": [
       "8"
      ]
     },
     "execution_count": 11,
     "metadata": {},
     "output_type": "execute_result"
    }
   ],
   "source": [
    "df['Market'].nunique()"
   ]
  },
  {
   "cell_type": "code",
   "execution_count": 13,
   "id": "7864a556-2dc6-4d58-af05-9dbe4ce341e7",
   "metadata": {},
   "outputs": [
    {
     "data": {
      "text/plain": [
       "7"
      ]
     },
     "execution_count": 13,
     "metadata": {},
     "output_type": "execute_result"
    }
   ],
   "source": [
    "df['Product Category'].nunique()"
   ]
  },
  {
   "cell_type": "code",
   "execution_count": 16,
   "id": "f553a9bd-9679-429f-89d3-8cfd42ae607d",
   "metadata": {},
   "outputs": [
    {
     "data": {
      "text/plain": [
       "49"
      ]
     },
     "execution_count": 16,
     "metadata": {},
     "output_type": "execute_result"
    }
   ],
   "source": [
    "df['Key'].nunique()"
   ]
  },
  {
   "cell_type": "markdown",
   "id": "5d2bf532-53a4-494a-83c1-a6fcadcee7de",
   "metadata": {},
   "source": [
    "### Check if data is normally distributed"
   ]
  },
  {
   "cell_type": "code",
   "execution_count": 17,
   "id": "02b3116a-1a49-4cac-90c7-e6248f3db0dc",
   "metadata": {},
   "outputs": [],
   "source": [
    "normality_check = df.copy()"
   ]
  },
  {
   "cell_type": "code",
   "execution_count": 18,
   "id": "1c82d71b-0014-4e03-9b7b-1e1feaf5dade",
   "metadata": {},
   "outputs": [
    {
     "name": "stderr",
     "output_type": "stream",
     "text": [
      "C:\\Users\\MQ745ED\\AppData\\Local\\Temp\\ipykernel_7752\\652310773.py:29: DeprecationWarning: DataFrameGroupBy.apply operated on the grouping columns. This behavior is deprecated, and in a future version of pandas the grouping columns will be excluded from the operation. Either pass `include_groups=False` to exclude the groupings or explicitly select the grouping columns after groupby to silence this warning.\n",
      "  normality_check = normality_check.groupby(['Market', 'Product Category'], group_keys=False).apply(check_normality)\n"
     ]
    }
   ],
   "source": [
    "import pandas as pd\n",
    "from scipy.stats import shapiro, skew, kurtosis\n",
    "\n",
    "# Ensure AC column is numeric\n",
    "normality_check['Sales Quantity'] = pd.to_numeric(normality_check['Sales Quantity'], errors='coerce')\n",
    "\n",
    "# Function to check normality and assign the same results to each row in the group\n",
    "def check_normality(group):\n",
    "    ac_vals = group['Sales Quantity'].dropna()\n",
    "    \n",
    "    if len(ac_vals) >= 3:  # Shapiro needs at least 3 points\n",
    "        stat, p_val = shapiro(ac_vals)\n",
    "        is_norm = p_val > 0.05\n",
    "        skew_val = skew(ac_vals)\n",
    "        kurt_val = kurtosis(ac_vals)\n",
    "    else:\n",
    "        is_norm = None\n",
    "        p_val = None\n",
    "        skew_val = None\n",
    "        kurt_val = None\n",
    "\n",
    "    group['is_normal'] = is_norm\n",
    "    group['p_value'] = p_val\n",
    "    group['skewness'] = skew_val\n",
    "    group['kurtosis'] = kurt_val\n",
    "    return group\n",
    "\n",
    "# Apply to each KPI Code and Plant Name combination\n",
    "normality_check = normality_check.groupby(['Market', 'Product Category'], group_keys=False).apply(check_normality)\n"
   ]
  },
  {
   "cell_type": "markdown",
   "id": "e35a83c3-15da-42b7-b02f-7fcb2810189c",
   "metadata": {},
   "source": [
    "### Getting outliers using IQR"
   ]
  },
  {
   "cell_type": "code",
   "execution_count": 19,
   "id": "dc8c5599-4bc5-47cf-baaf-c75ca96ad96b",
   "metadata": {},
   "outputs": [],
   "source": [
    "def detect_outliers(group):\n",
    "    if len(group) < 3:\n",
    "        group['Q1'] = group['Sales Quantity'].quantile(0.25)\n",
    "        group['Q3'] = group['Sales Quantity'].quantile(0.75)\n",
    "        group['IQR'] = group['Q3'] - group['Q1']\n",
    "        group['is_outlier'] = False\n",
    "    else:\n",
    "        Q1 = group['Sales Quantity'].quantile(0.25)\n",
    "        Q3 = group['Sales Quantity'].quantile(0.75)\n",
    "        IQR = Q3 - Q1\n",
    "        lower_bound = Q1 - 1.5 * IQR\n",
    "        upper_bound = Q3 + 1.5 * IQR\n",
    "\n",
    "        group['Q1'] = Q1\n",
    "        group['Q3'] = Q3\n",
    "        group['IQR'] = IQR\n",
    "        group['is_outlier'] = (group['Sales Quantity'] < lower_bound) | (group['Sales Quantity'] > upper_bound)\n",
    "\n",
    "    return group\n"
   ]
  },
  {
   "cell_type": "code",
   "execution_count": 20,
   "id": "b1fc6320-7780-496a-aafe-bd7984c84e99",
   "metadata": {},
   "outputs": [
    {
     "name": "stderr",
     "output_type": "stream",
     "text": [
      "C:\\Users\\MQ745ED\\AppData\\Local\\Temp\\ipykernel_7752\\1000332750.py:1: DeprecationWarning: DataFrameGroupBy.apply operated on the grouping columns. This behavior is deprecated, and in a future version of pandas the grouping columns will be excluded from the operation. Either pass `include_groups=False` to exclude the groupings or explicitly select the grouping columns after groupby to silence this warning.\n",
      "  outliers_std_df = normality_check.groupby(['Market', 'Product Category'], group_keys=False).apply(detect_outliers)\n"
     ]
    }
   ],
   "source": [
    "outliers_std_df = normality_check.groupby(['Market', 'Product Category'], group_keys=False).apply(detect_outliers)\n"
   ]
  },
  {
   "cell_type": "markdown",
   "id": "c8999580-c0cf-42f4-8777-85157a172759",
   "metadata": {},
   "source": [
    "### Calculate Impact on Mean for each line item"
   ]
  },
  {
   "cell_type": "code",
   "execution_count": 23,
   "id": "9d50820e-6877-4832-8e1e-a9fd2e554875",
   "metadata": {},
   "outputs": [],
   "source": [
    "# Calculate mean of 'Sales Quantity' only where 'is_outlier' is False, per group\n",
    "outliers_std_df['Sum without outliers'] = (\n",
    "    outliers_std_df.groupby('Key')['Sales Quantity']\n",
    "    .transform(lambda x: x[~outliers_std_df.loc[x.index, 'is_outlier']].sum())\n",
    ")"
   ]
  },
  {
   "cell_type": "code",
   "execution_count": 24,
   "id": "fff83f5d-ee6b-4fbe-b76c-7d11e0698125",
   "metadata": {},
   "outputs": [],
   "source": [
    "# Calculate mean of 'Sales Quantity' only where 'is_outlier' is False, per group\n",
    "outliers_std_df['Count without outliers'] = (\n",
    "    outliers_std_df.groupby('Key')['Sales Quantity']\n",
    "    .transform(lambda x: x[~outliers_std_df.loc[x.index, 'is_outlier']].count())\n",
    ")"
   ]
  },
  {
   "cell_type": "code",
   "execution_count": 26,
   "id": "b73a90d6-2d25-4ed3-b3a2-132aad98b9fe",
   "metadata": {},
   "outputs": [],
   "source": [
    "# Calculate mean of 'Sales Quantity' only where 'is_outlier' is False, per group\n",
    "outliers_std_df['Mean without outliers'] = (\n",
    "    outliers_std_df.groupby('Key')['Sales Quantity']\n",
    "    .transform(lambda x: x[~outliers_std_df.loc[x.index, 'is_outlier']].mean())\n",
    ")"
   ]
  },
  {
   "cell_type": "code",
   "execution_count": 27,
   "id": "4dae163d-be6c-4b3d-968d-7a84829e4ea7",
   "metadata": {},
   "outputs": [],
   "source": [
    "outliers_std_df['Mean without outliers'] = outliers_std_df['Mean without outliers'].astype(float)\n",
    "# Calculate for rows where is_outlier is False\n",
    "outliers_std_df['New Mean outliers'] = np.where(\n",
    "    outliers_std_df['is_outlier'],\n",
    "    (outliers_std_df['Sum without outliers'] + outliers_std_df['Sales Quantity']) / \n",
    "    (outliers_std_df['Count without outliers'] + 1),\n",
    "    0.0  # Value when is_outlier is True\n",
    ")\n",
    "\n",
    "outliers_std_df['New Mean outliers'] = outliers_std_df['New Mean outliers'].astype(float)\n",
    "outliers_std_df['Impact on Mean'] = np.where(\n",
    "    outliers_std_df['is_outlier'],\n",
    "    ((outliers_std_df['New Mean outliers'] - outliers_std_df['Mean without outliers']) / \n",
    "     outliers_std_df['Mean without outliers']) * 100,\n",
    "    0.0\n",
    ")"
   ]
  },
  {
   "cell_type": "markdown",
   "id": "94b49820-3d5d-4286-b963-0c3a7f0af345",
   "metadata": {},
   "source": [
    "### Save File"
   ]
  },
  {
   "cell_type": "code",
   "execution_count": 28,
   "id": "86a64f2d-1515-4129-a832-16bfdeaeb451",
   "metadata": {},
   "outputs": [],
   "source": [
    "outliers_std_df.to_excel('C://Users//MQ745ED//OneDrive - EY//SampleCaseStudy//Output////Outlier Detected.xlsx',index = False)"
   ]
  },
  {
   "cell_type": "code",
   "execution_count": 29,
   "id": "25f69467-d85f-4cad-88ee-3064e8da87df",
   "metadata": {},
   "outputs": [
    {
     "name": "stderr",
     "output_type": "stream",
     "text": [
      "C:\\Users\\MQ745ED\\AppData\\Local\\Programs\\Python\\Python312\\Lib\\site-packages\\tqdm\\auto.py:21: TqdmWarning: IProgress not found. Please update jupyter and ipywidgets. See https://ipywidgets.readthedocs.io/en/stable/user_install.html\n",
      "  from .autonotebook import tqdm as notebook_tqdm\n"
     ]
    }
   ],
   "source": [
    "import pandas as pd\n",
    "from prophet import Prophet\n"
   ]
  },
  {
   "cell_type": "code",
   "execution_count": 31,
   "id": "398985fc-a1a3-44a3-b9cb-ef04fb8923fa",
   "metadata": {},
   "outputs": [],
   "source": [
    "# 1. Load data\n",
    "file_path = \"C://Users//MQ745ED//OneDrive - EY//SampleCaseStudy//Output////Outlier Detected.xlsx\"\n",
    "df = pd.read_excel(file_path)"
   ]
  },
  {
   "cell_type": "code",
   "execution_count": 32,
   "id": "d6baa0fb-41fb-4005-a460-3935534983cf",
   "metadata": {},
   "outputs": [],
   "source": [
    "df['Date'] = pd.to_datetime(df['Year'])\n",
    "df = df.sort_values(by=['Market', 'Product Category', 'Date'])\n"
   ]
  },
  {
   "cell_type": "code",
   "execution_count": 33,
   "id": "eb3fadcd-7a80-4839-be06-b5d5f1017830",
   "metadata": {},
   "outputs": [
    {
     "data": {
      "text/plain": [
       "258   1970-01-01 00:00:00.000002019\n",
       "259   1970-01-01 00:00:00.000002020\n",
       "260   1970-01-01 00:00:00.000002021\n",
       "261   1970-01-01 00:00:00.000002022\n",
       "262   1970-01-01 00:00:00.000002023\n",
       "                   ...             \n",
       "67    1970-01-01 00:00:00.000002020\n",
       "68    1970-01-01 00:00:00.000002021\n",
       "69    1970-01-01 00:00:00.000002022\n",
       "70    1970-01-01 00:00:00.000002023\n",
       "71    1970-01-01 00:00:00.000002024\n",
       "Name: Date, Length: 294, dtype: datetime64[ns]"
      ]
     },
     "execution_count": 33,
     "metadata": {},
     "output_type": "execute_result"
    }
   ],
   "source": [
    "df['Date']"
   ]
  },
  {
   "cell_type": "code",
   "execution_count": null,
   "id": "bffea399-87dc-4414-905c-8bc6652b714b",
   "metadata": {},
   "outputs": [],
   "source": []
  }
 ],
 "metadata": {
  "kernelspec": {
   "display_name": "Python 3 (ipykernel)",
   "language": "python",
   "name": "python3"
  },
  "language_info": {
   "codemirror_mode": {
    "name": "ipython",
    "version": 3
   },
   "file_extension": ".py",
   "mimetype": "text/x-python",
   "name": "python",
   "nbconvert_exporter": "python",
   "pygments_lexer": "ipython3",
   "version": "3.12.3"
  }
 },
 "nbformat": 4,
 "nbformat_minor": 5
}
